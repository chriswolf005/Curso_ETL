{
 "cells": [
  {
   "cell_type": "markdown",
   "id": "d6a81ddc",
   "metadata": {},
   "source": [
    "## Leer archivo excel"
   ]
  },
  {
   "cell_type": "code",
   "execution_count": 2,
   "id": "57f359aa",
   "metadata": {},
   "outputs": [
    {
     "name": "stdout",
     "output_type": "stream",
     "text": [
      "    Region      Producto Vendedor  Ventas\n",
      "0  Central    Accesorios    David    8287\n",
      "1  Central    Accesorios    Karen    6909\n",
      "2  Central  Dispositivos    David   11420\n",
      "3  Central  Dispositivos    Karen   12948\n",
      "4  Central      Sistemas    David   20098\n"
     ]
    }
   ],
   "source": [
    "import pandas as pd\n",
    "\n",
    "# Leer el archivo Excel\n",
    "data = pd.read_excel(r'C:\\Users\\chris\\OneDrive\\Desktop\\Cursos\\ETL\\Curso_ETL\\data\\Ventas.xlsx')\n",
    "\n",
    "# Mostrar las primeras filas\n",
    "print(data.head())"
   ]
  },
  {
   "cell_type": "markdown",
   "id": "77989179",
   "metadata": {},
   "source": [
    "##  Conectar con SQL 💻📊"
   ]
  },
  {
   "cell_type": "code",
   "execution_count": 4,
   "id": "51ca9948",
   "metadata": {},
   "outputs": [],
   "source": [
    "## Crear base de datos SQLite\n",
    "\n",
    "import sqlite3\n",
    "\n",
    "# Crear o conectar a la base de datos\n",
    "conn = sqlite3.connect(\"sales.db\")\n",
    "cursor = conn.cursor()\n",
    "\n",
    "# Crear tabla de clientes\n",
    "cursor.execute(\"\"\"\n",
    "CREATE TABLE IF NOT EXISTS customers (\n",
    "    customer_id INTEGER PRIMARY KEY,\n",
    "    name TEXT NOT NULL,\n",
    "    email TEXT UNIQUE\n",
    ")\n",
    "\"\"\")\n",
    "\n",
    "# Crear tabla de transacciones\n",
    "cursor.execute(\"\"\"\n",
    "CREATE TABLE IF NOT EXISTS transactions (\n",
    "    transaction_id INTEGER PRIMARY KEY,\n",
    "    customer_id INTEGER,\n",
    "    date TEXT,\n",
    "    amount REAL,\n",
    "    FOREIGN KEY (customer_id) REFERENCES customers(customer_id)\n",
    ")\n",
    "\"\"\")\n",
    "\n",
    "# Insertar registros en customers\n",
    "customers_data = [\n",
    "    (1, 'Juan Pérez', 'juan@example.com'),\n",
    "    (2, 'Ana García', 'ana@example.com'),\n",
    "    (3, 'Luis Gómez', 'luis@example.com')\n",
    "]\n",
    "cursor.executemany(\"INSERT OR IGNORE INTO customers VALUES (?, ?, ?)\", customers_data)\n",
    "\n",
    "# Insertar registros en transactions\n",
    "transactions_data = [\n",
    "    (1, 1, '2025-07-01', 150.50),\n",
    "    (2, 2, '2025-07-03', 200.75),\n",
    "    (3, 1, '2025-07-05', 99.99),\n",
    "    (4, 3, '2025-07-06', 300.00)\n",
    "]\n",
    "cursor.executemany(\"INSERT OR IGNORE INTO transactions VALUES (?, ?, ?, ?)\", transactions_data)\n",
    "\n",
    "# Guardar cambios y cerrar\n",
    "conn.commit()\n",
    "conn.close()\n"
   ]
  },
  {
   "cell_type": "code",
   "execution_count": 7,
   "id": "2852f9a7",
   "metadata": {},
   "outputs": [
    {
     "name": "stdout",
     "output_type": "stream",
     "text": [
      "   transaction_id  customer_id        date  amount\n",
      "0               1            1  2025-07-01  150.50\n",
      "1               2            2  2025-07-03  200.75\n",
      "2               3            1  2025-07-05   99.99\n",
      "3               4            3  2025-07-06  300.00\n",
      "   customer_id        name             email\n",
      "0            1  Juan Pérez  juan@example.com\n",
      "1            2  Ana García   ana@example.com\n",
      "2            3  Luis Gómez  luis@example.com\n"
     ]
    }
   ],
   "source": [
    "import sqlite3\n",
    "import pandas as pd\n",
    "\n",
    "conn = sqlite3.connect(\"sales.db\")\n",
    "\n",
    "try:\n",
    "    df = pd.read_sql_query(\"SELECT * FROM transactions\", conn)\n",
    "    df2=pd.read_sql_query(\"SELECT * FROM customers\", conn)\n",
    "    print(df.head())\n",
    "    print(df2.head())\n",
    "except Exception as e:\n",
    "    print(f\"Error ejecutando la consulta: {e}\")\n",
    "finally:\n",
    "    conn.close()\n"
   ]
  },
  {
   "cell_type": "markdown",
   "id": "48003abe",
   "metadata": {},
   "source": [
    "## Usar un API 💻🌦️☁️"
   ]
  },
  {
   "cell_type": "code",
   "execution_count": 10,
   "id": "0654a1fb",
   "metadata": {},
   "outputs": [
    {
     "name": "stdout",
     "output_type": "stream",
     "text": [
      "               time  interval  temperature  windspeed  winddirection  is_day  \\\n",
      "0  2025-07-16T03:00       900         24.2        4.2            329       0   \n",
      "\n",
      "   weathercode  \n",
      "0            1  \n"
     ]
    }
   ],
   "source": [
    "latitude = 18.4861\n",
    "longitude = -69.9312\n",
    "\n",
    "url = f\"https://api.open-meteo.com/v1/forecast?latitude={latitude}&longitude={longitude}&current_weather=true\"\n",
    "response = requests.get(url)\n",
    "\n",
    "if response.status_code == 200:\n",
    "    weather_data = response.json()\n",
    "    df = pd.json_normalize(weather_data['current_weather'])\n",
    "    print(df.head())\n",
    "else:\n",
    "    print(f\"Error en la solicitud: {response.status_code}\")\n"
   ]
  }
 ],
 "metadata": {
  "kernelspec": {
   "display_name": "base",
   "language": "python",
   "name": "python3"
  },
  "language_info": {
   "codemirror_mode": {
    "name": "ipython",
    "version": 3
   },
   "file_extension": ".py",
   "mimetype": "text/x-python",
   "name": "python",
   "nbconvert_exporter": "python",
   "pygments_lexer": "ipython3",
   "version": "3.12.7"
  }
 },
 "nbformat": 4,
 "nbformat_minor": 5
}
